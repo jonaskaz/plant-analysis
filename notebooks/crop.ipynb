{
 "cells": [
  {
   "cell_type": "code",
   "execution_count": 1,
   "metadata": {},
   "outputs": [],
   "source": [
    "import os\n",
    "from dotenv import load_dotenv\n",
    "from image_helper import ImageHelper\n",
    "from datetime import datetime\n",
    "\n",
    "load_dotenv()\n",
    "\n",
    "base_url = os.environ.get(\"STORAGE_URL\")\n",
    "# base_url will be empty if .env file is missing\n",
    "assert base_url != \"\"\n",
    "im_helper = ImageHelper(base_url)"
   ]
  },
  {
   "cell_type": "code",
   "execution_count": 3,
   "metadata": {},
   "outputs": [],
   "source": [
    "dt_str = '25/11/2022 17:08:18' \n",
    "dt = im_helper.dt_from_string(dt_str)\n",
    "if im_helper.get(dt, \"top\"):\n",
    "    im_helper.show()"
   ]
  },
  {
   "cell_type": "code",
   "execution_count": null,
   "metadata": {},
   "outputs": [],
   "source": []
  }
 ],
 "metadata": {
  "kernelspec": {
   "display_name": "Python 3.10.6 ('venv': venv)",
   "language": "python",
   "name": "python3"
  },
  "language_info": {
   "codemirror_mode": {
    "name": "ipython",
    "version": 3
   },
   "file_extension": ".py",
   "mimetype": "text/x-python",
   "name": "python",
   "nbconvert_exporter": "python",
   "pygments_lexer": "ipython3",
   "version": "3.10.6"
  },
  "orig_nbformat": 4,
  "vscode": {
   "interpreter": {
    "hash": "ffefb5fbe5881360808245cfc40a2295aa226304d434c294bc2fec2c92092493"
   }
  }
 },
 "nbformat": 4,
 "nbformat_minor": 2
}
